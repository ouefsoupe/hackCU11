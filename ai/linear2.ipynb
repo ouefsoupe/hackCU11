{
 "cells": [
  {
   "cell_type": "code",
   "execution_count": 45,
   "metadata": {},
   "outputs": [],
   "source": [
    "import torch\n",
    "import torch.nn as nn\n",
    "import torch.optim as optim\n",
    "import weights\n",
    "import json\n",
    "from torch.utils.data import DataLoader\n",
    "import numpy as np\n",
    "import matplotlib.pyplot as plt"
   ]
  },
  {
   "cell_type": "code",
   "execution_count": 65,
   "metadata": {},
   "outputs": [],
   "source": [
    "#[delta_x, delta_y, hold_weight] IN ->\n",
    "#[delta_x, delta_y] <- OUT\n",
    "\n",
    "moves_dataset = []\n",
    "moves_labels = []\n",
    "hold_weights = weights.get_weights()\n",
    "\n",
    "climb_data = {}\n",
    "with open(\"../data/climbs.json\", 'r') as file:\n",
    "  climb_data = json.load(file)"
   ]
  },
  {
   "cell_type": "code",
   "execution_count": 66,
   "metadata": {},
   "outputs": [],
   "source": [
    "for climb in climb_data:\n",
    "    for i in range(1, len(climb['placements'])-1):\n",
    "        next = climb['placements'][i+1]\n",
    "        curr = climb['placements'][i]\n",
    "        prev = climb['placements'][i-1]\n",
    "        \n",
    "        moves_dataset.append([\n",
    "            climb['difficulty'],\n",
    "            curr['x'] - prev['x'],\n",
    "            curr['y'] - prev['y'],\n",
    "            hold_weights[curr['x'], curr['y']-1]\n",
    "        ])\n",
    "        moves_labels.append([\n",
    "            next['x'] - curr['x'],\n",
    "            next['y'] - curr['y']\n",
    "        ])"
   ]
  },
  {
   "cell_type": "code",
   "execution_count": 67,
   "metadata": {},
   "outputs": [],
   "source": [
    "dataloader_tmp = []\n",
    "for i in range(len(moves_dataset)): \n",
    "    dataloader_tmp.append((torch.tensor(moves_dataset[i], dtype=torch.float32), torch.tensor(moves_labels[i], dtype=torch.float32)))\n",
    "dataloader = DataLoader(dataloader_tmp, batch_size=32, shuffle=True)"
   ]
  },
  {
   "cell_type": "code",
   "execution_count": 69,
   "metadata": {
    "vscode": {
     "languageId": "plaintext"
    }
   },
   "outputs": [
    {
     "name": "stdout",
     "output_type": "stream",
     "text": [
      "Epoch [1/2], Loss: 23.5416\n",
      "Epoch [2/2], Loss: 99.3977\n"
     ]
    },
    {
     "data": {
      "image/png": "[encoded data removed]",
      "text/plain": [
       "<Figure size 640x480 with 1 Axes>"
      ]
     },
     "metadata": {},
     "output_type": "display_data"
    }
   ],
   "source": [
    "\n",
    "# Define the neural network architecture\n",
    "class HoldPredictor(nn.Module):\n",
    "    def __init__(self):\n",
    "        super(HoldPredictor, self).__init__()\n",
    "        # Define layers: \n",
    "        # - input layer: input_size to hidden_size\n",
    "        # - hidden layer: hidden_size to hidden_size (optional, can add more layers)\n",
    "        # - output layer: hidden_size to output_size\n",
    "        input_size = 4\n",
    "        hidden_size = 4\n",
    "        output_size = 2\n",
    "        \n",
    "        self.fc1 = nn.Linear(input_size, hidden_size)  # First hidden layer\n",
    "        self.relu = nn.ReLU()  # ReLU activation\n",
    "        self.fc2 = nn.Linear(hidden_size, hidden_size)  # Output layer\n",
    "        self.relu2 = nn.ReLU()\n",
    "        self.fc3 = nn.Linear(hidden_size, output_size)\n",
    "\n",
    "    def forward(self, x):\n",
    "        # Forward pass through the network\n",
    "        x = self.fc1(x)  # Input to first hidden layer\n",
    "        x = self.relu(x)  # Apply ReLU activation\n",
    "        # x = self.fc2(x)  # Output from second layer\n",
    "        # x = self.relu2(x)\n",
    "        x = self.fc3(x)\n",
    "        return x\n",
    "\n",
    "# Instantiate the model\n",
    "model = HoldPredictor()\n",
    "\n",
    "# Loss function and optimizer\n",
    "criterion = nn.MSELoss()  # Mean Squared Error loss (for regression)\n",
    "optimizer = optim.Adam(model.parameters(), lr=0.01)  # Stochastic Gradient Descent optimizer\n",
    "\n",
    "# Example training loop\n",
    "num_epochs = 2\n",
    "losses = []\n",
    "model.train()\n",
    "for epoch in range(num_epochs):\n",
    "    # Example random data (batch of inputs)\n",
    "\n",
    "    for inputs, labels in dataloader:\n",
    "\n",
    "        # Zero gradients from previous step\n",
    "        optimizer.zero_grad()\n",
    "    \n",
    "        # Forward pass\n",
    "        outputs = model.forward(inputs)\n",
    "    \n",
    "        # Compute the loss\n",
    "        loss = criterion(outputs, labels)\n",
    "    \n",
    "        # Backward pass (gradient computation)\n",
    "        loss.backward()\n",
    "\n",
    "        losses.append(loss.item())\n",
    "    \n",
    "        # Update the weights\n",
    "        optimizer.step()\n",
    "    \n",
    "        # Print the loss every 100 epochs\n",
    "    print(f'Epoch [{epoch+1}/{num_epochs}], Loss: {loss.item():.4f}')\n",
    "\n",
    "# Save the trained model\n",
    "# torch.save(model.state_dict(), 'model.pth')\n",
    "\n",
    "plt.plot(losses)\n",
    "plt.show()\n"
   ]
  },
  {
   "cell_type": "code",
   "execution_count": null,
   "metadata": {},
   "outputs": [],
   "source": []
  },
  {
   "cell_type": "code",
   "execution_count": null,
   "metadata": {},
   "outputs": [],
   "source": []
  }
 ],
 "metadata": {
  "kernelspec": {
   "display_name": "Python 3 (ipykernel)",
   "language": "python",
   "name": "python3"
  },
  "language_info": {
   "codemirror_mode": {
    "name": "ipython",
    "version": 3
   },
   "file_extension": ".py",
   "mimetype": "text/x-python",
   "name": "python",
   "nbconvert_exporter": "python",
   "pygments_lexer": "ipython3",
   "version": "3.13.1"
  }
 },
 "nbformat": 4,
 "nbformat_minor": 4
}
